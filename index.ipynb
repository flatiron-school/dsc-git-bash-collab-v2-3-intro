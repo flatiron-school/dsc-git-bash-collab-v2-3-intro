{
 "cells": [
  {
   "cell_type": "markdown",
   "metadata": {},
   "source": [
    "# Bash and Git - Introduction\n",
    "\n",
    "In this section, you'll learn about Bash command line and Git. You've seen a bit of this from our first section in which you took a look at how to clone a GitHub repository. Now, we'll further investigate how to navigate the command line and use more powerful Git techniques. \n",
    "\n",
    "## Lesson Priorities\n",
    "\n",
    "### 1st Priority\n",
    "\n",
    "If you are short on time, be sure to make it through these 3 items:\n",
    "\n",
    "- The Bash Shell\n",
    "- Git Version Control 101\n",
    "- Getting Started with Git\n",
    "\n",
    "### 2nd Priority\n",
    "\n",
    "- Git Practice\n"
   ]
  },
  {
   "cell_type": "markdown",
   "metadata": {},
   "source": [
    "## Bash and the command line\n",
    "\n",
    "The command line or shell is the preliminary interface where users can interact with the operating system. Before applications, windows, and graphical user interfaces, all interaction with the computer was facilitated through the command line. Of these command line shells, bash now comes preinstalled in every Mac and many other Unix based systems.\n",
    "\n",
    "The preliminary fundamental techniques you'll practice in this section are changing directories using the `cd` command, making directories with the `mkdir` command, and checking where you are using the print working directory, `pwd` command. In addition, you'll also take a look at how to create and edit files from the command line using the `nano` command.\n",
    "\n",
    "## Git\n",
    "\n",
    "You've previously seen how to fork and clone git repositories from GitHub. Git is a version control system that is used by developers all over the world for collaboration. Git is the technology underlying the GitHub platform, a cloud service provider, of which there are many. \n",
    "\n",
    "### Git commands\n",
    "\n",
    "Pay close attention to the commands outlined in **Getting Started with Git**:  `git add`, `git commit`, `git push`.  Those three commands represent the foundation of the Github workflow.  **Git Practice** gives you the chance to create a new repository and practice the add/commit/push sequence."
   ]
  },
  {
   "cell_type": "markdown",
   "metadata": {},
   "source": [
    "## Appendix\n",
    "Once you have developed your understanding of the essential bash commands and the fundamental git workflow, the lessons in the Appendix will teach you about collaborating with git.  This will be important when you are working on teams, either at Flatiron or on the job.  You will become familiar with creating and merging branches using `git merge`, `git branch`, `git checkout`.  You will also practice resolving a merge conflict using a new command, `git stash`.  "
   ]
  },
  {
   "cell_type": "code",
   "execution_count": null,
   "metadata": {},
   "outputs": [],
   "source": []
  }
 ],
 "metadata": {
  "kernelspec": {
   "display_name": "Python 3",
   "language": "python",
   "name": "python3"
  },
  "language_info": {
   "codemirror_mode": {
    "name": "ipython",
    "version": 3
   },
   "file_extension": ".py",
   "mimetype": "text/x-python",
   "name": "python",
   "nbconvert_exporter": "python",
   "pygments_lexer": "ipython3",
   "version": "3.8.5"
  }
 },
 "nbformat": 4,
 "nbformat_minor": 4
}
